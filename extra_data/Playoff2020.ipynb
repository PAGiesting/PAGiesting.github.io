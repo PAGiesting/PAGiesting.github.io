{
 "cells": [
  {
   "cell_type": "markdown",
   "metadata": {},
   "source": [
    "# Playoff Picker\n",
    "## MLB 2020\n",
    "### The Plague Year, The Silly Season"
   ]
  },
  {
   "cell_type": "code",
   "execution_count": 5,
   "metadata": {},
   "outputs": [],
   "source": [
    "import random"
   ]
  },
  {
   "cell_type": "code",
   "execution_count": 6,
   "metadata": {},
   "outputs": [],
   "source": [
    "class Team:\n",
    "    def __init__(self, win_pct, name):\n",
    "        self.name = name\n",
    "        self.win_pct = win_pct"
   ]
  },
  {
   "cell_type": "code",
   "execution_count": 108,
   "metadata": {},
   "outputs": [],
   "source": [
    "class PlayoffSeries:\n",
    "    def __init__(self, team1, team2, ngames):\n",
    "        self.team1 = team1\n",
    "        self.team2 = team2\n",
    "        self.ngames = ngames\n",
    "        self.results = []\n",
    "    def playball(self):\n",
    "        team1_win_pct = 0.5*(self.team1.win_pct + (1-self.team2.win_pct))\n",
    "        for i in range(self.ngames):\n",
    "            score = random.random()\n",
    "            if score < team1_win_pct:\n",
    "                self.results.append(self.team1.name)\n",
    "            else:\n",
    "                self.results.append(self.team2.name)\n",
    "            if self.results.count(self.team1.name) > (self.ngames / 2.0):\n",
    "                self.winner = self.team1\n",
    "                self.games_played = i+1\n",
    "                break\n",
    "            elif self.results.count(self.team2.name) > (self.ngames / 2.0):\n",
    "                self.winner = self.team2\n",
    "                self.games_played = i+1\n",
    "                break"
   ]
  },
  {
   "cell_type": "code",
   "execution_count": 107,
   "metadata": {},
   "outputs": [],
   "source": [
    "class Bracket:\n",
    "    def __init__(self, teamlist, ngamelist):\n",
    "        self.teams = teamlist\n",
    "        self.ngamelist = ngamelist\n",
    "        self.nteams = len(teamlist)\n",
    "        self.rounds = len(ngamelist)\n",
    "    def playout(self):\n",
    "        self.series_list = []\n",
    "        these_teams = self.teams\n",
    "        curr_n_teams = self.nteams\n",
    "        for r in range(self.rounds):\n",
    "            this_round = []\n",
    "            this_round_ngames = self.ngamelist[r]\n",
    "            winners = []\n",
    "            for i in range(int(curr_n_teams/2)):\n",
    "                this_round.append(PlayoffSeries(these_teams[i],these_teams[-1-1*i],this_round_ngames))\n",
    "                this_round[-1].playball()\n",
    "                winners.append(this_round[-1].winner)\n",
    "                # print(type(winners[-1]))\n",
    "            self.series_list.append(this_round)\n",
    "            these_teams = winners\n",
    "            curr_n_teams = len(winners)\n",
    "    def printout(self):\n",
    "        for j, playoff_round in enumerate(self.series_list):\n",
    "            print('Round ',j+1,' results')\n",
    "            for series in playoff_round:\n",
    "                print(series.winner.name,' won in ',series.games_played,' games.')"
   ]
  },
  {
   "cell_type": "code",
   "execution_count": 51,
   "metadata": {},
   "outputs": [],
   "source": [
    "format_list = [3,5,7]"
   ]
  },
  {
   "cell_type": "code",
   "execution_count": 52,
   "metadata": {},
   "outputs": [],
   "source": [
    "import csv"
   ]
  },
  {
   "cell_type": "code",
   "execution_count": 62,
   "metadata": {},
   "outputs": [
    {
     "name": "stdout",
     "output_type": "stream",
     "text": [
      "['Rays', '40', '20']\n",
      "['As', '36', '24']\n",
      "['Twins', '36', '24']\n",
      "['Indians', '35', '25']\n",
      "['Yankees', '33', '27']\n",
      "['Astros', '29', '31']\n",
      "['White Sox', '35', '25']\n",
      "['Blue Jays', '32', '28']\n"
     ]
    }
   ],
   "source": [
    "al_list = []\n",
    "with open('./Documents/al2020.csv') as al_file:\n",
    "    al_reader = csv.reader(al_file,delimiter=',')\n",
    "    for row in al_reader:\n",
    "        print(row)\n",
    "        al_list.append(Team((float(row[1])/(float(row[1])+float(row[2]))),row[0]))"
   ]
  },
  {
   "cell_type": "code",
   "execution_count": 63,
   "metadata": {},
   "outputs": [
    {
     "name": "stdout",
     "output_type": "stream",
     "text": [
      "['Dodgers', '43', '17']\n",
      "['Braves', '35', '25']\n",
      "['Cubs', '34', '26']\n",
      "['Padres', '37', '23']\n",
      "['Cardinals', '30', '28']\n",
      "['Marlins', '31', '29']\n",
      "['Reds', '31', '29']\n",
      "['Brewers', '29', '31']\n"
     ]
    }
   ],
   "source": [
    "nl_list = []\n",
    "with open('./Documents/nl2020.csv') as nl_file:\n",
    "    nl_reader = csv.reader(nl_file,delimiter=',')\n",
    "    for row in nl_reader:\n",
    "        print(row)\n",
    "        nl_list.append(Team((float(row[1])/(float(row[1])+float(row[2]))),row[0]))"
   ]
  },
  {
   "cell_type": "code",
   "execution_count": 109,
   "metadata": {},
   "outputs": [],
   "source": [
    "al_bracket = Bracket(al_list,format_list)\n",
    "nl_bracket = Bracket(nl_list,format_list)"
   ]
  },
  {
   "cell_type": "code",
   "execution_count": 110,
   "metadata": {},
   "outputs": [],
   "source": [
    "al_bracket.playout()"
   ]
  },
  {
   "cell_type": "code",
   "execution_count": 111,
   "metadata": {},
   "outputs": [
    {
     "name": "stdout",
     "output_type": "stream",
     "text": [
      "Round  1  results\n",
      "Rays  won in  2  games.\n",
      "White Sox  won in  2  games.\n",
      "Astros  won in  3  games.\n",
      "Yankees  won in  2  games.\n",
      "Round  2  results\n",
      "Rays  won in  4  games.\n",
      "Astros  won in  4  games.\n",
      "Round  3  results\n",
      "Rays  won in  5  games.\n"
     ]
    }
   ],
   "source": [
    "al_bracket.printout()"
   ]
  },
  {
   "cell_type": "code",
   "execution_count": 112,
   "metadata": {},
   "outputs": [
    {
     "name": "stdout",
     "output_type": "stream",
     "text": [
      "Round  1  results\n",
      "Dodgers  won in  3  games.\n",
      "Reds  won in  3  games.\n",
      "Cubs  won in  2  games.\n",
      "Padres  won in  2  games.\n",
      "Round  2  results\n",
      "Padres  won in  4  games.\n",
      "Cubs  won in  5  games.\n",
      "Round  3  results\n",
      "Padres  won in  6  games.\n"
     ]
    }
   ],
   "source": [
    "nl_bracket.playout()\n",
    "nl_bracket.printout()"
   ]
  },
  {
   "cell_type": "code",
   "execution_count": 113,
   "metadata": {},
   "outputs": [],
   "source": [
    "world_series = PlayoffSeries(al_bracket.series_list[-1][-1].winner,\n",
    "                             nl_bracket.series_list[-1][-1].winner,\n",
    "                             7)"
   ]
  },
  {
   "cell_type": "code",
   "execution_count": 114,
   "metadata": {},
   "outputs": [],
   "source": [
    "world_series.playball()"
   ]
  },
  {
   "cell_type": "code",
   "execution_count": 115,
   "metadata": {},
   "outputs": [
    {
     "data": {
      "text/plain": [
       "['Rays', 'Padres', 'Padres', 'Padres', 'Rays', 'Rays', 'Padres']"
      ]
     },
     "execution_count": 115,
     "metadata": {},
     "output_type": "execute_result"
    }
   ],
   "source": [
    "world_series.results"
   ]
  },
  {
   "cell_type": "markdown",
   "metadata": {},
   "source": [
    "Your World Series champion Padres win in a dramatic Game 7 after letting the Rays come back from a deficit of 3 games to 1."
   ]
  },
  {
   "cell_type": "code",
   "execution_count": null,
   "metadata": {},
   "outputs": [],
   "source": []
  }
 ],
 "metadata": {
  "kernelspec": {
   "display_name": "Python 3",
   "language": "python",
   "name": "python3"
  },
  "language_info": {
   "codemirror_mode": {
    "name": "ipython",
    "version": 3
   },
   "file_extension": ".py",
   "mimetype": "text/x-python",
   "name": "python",
   "nbconvert_exporter": "python",
   "pygments_lexer": "ipython3",
   "version": "3.8.5"
  }
 },
 "nbformat": 4,
 "nbformat_minor": 4
}
